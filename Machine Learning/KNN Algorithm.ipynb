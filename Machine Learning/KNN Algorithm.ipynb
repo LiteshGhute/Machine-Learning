{
 "cells": [
  {
   "cell_type": "code",
   "execution_count": 192,
   "id": "4b05f1be",
   "metadata": {},
   "outputs": [],
   "source": [
    "import seaborn as sns\n",
    "import pandas as pd\n",
    "import matplotlib.pyplot as plt\n",
    "import numpy as np"
   ]
  },
  {
   "cell_type": "code",
   "execution_count": 193,
   "id": "09b84055",
   "metadata": {},
   "outputs": [],
   "source": [
    "dataframe = sns.load_dataset('iris')"
   ]
  },
  {
   "cell_type": "code",
   "execution_count": 194,
   "id": "9c19a22e",
   "metadata": {},
   "outputs": [
    {
     "name": "stdout",
     "output_type": "stream",
     "text": [
      "(150, 5)\n"
     ]
    },
    {
     "data": {
      "text/html": [
       "<div>\n",
       "<style scoped>\n",
       "    .dataframe tbody tr th:only-of-type {\n",
       "        vertical-align: middle;\n",
       "    }\n",
       "\n",
       "    .dataframe tbody tr th {\n",
       "        vertical-align: top;\n",
       "    }\n",
       "\n",
       "    .dataframe thead th {\n",
       "        text-align: right;\n",
       "    }\n",
       "</style>\n",
       "<table border=\"1\" class=\"dataframe\">\n",
       "  <thead>\n",
       "    <tr style=\"text-align: right;\">\n",
       "      <th></th>\n",
       "      <th>sepal_length</th>\n",
       "      <th>sepal_width</th>\n",
       "      <th>petal_length</th>\n",
       "      <th>petal_width</th>\n",
       "      <th>species</th>\n",
       "    </tr>\n",
       "  </thead>\n",
       "  <tbody>\n",
       "    <tr>\n",
       "      <th>0</th>\n",
       "      <td>5.1</td>\n",
       "      <td>3.5</td>\n",
       "      <td>1.4</td>\n",
       "      <td>0.2</td>\n",
       "      <td>setosa</td>\n",
       "    </tr>\n",
       "    <tr>\n",
       "      <th>1</th>\n",
       "      <td>4.9</td>\n",
       "      <td>3.0</td>\n",
       "      <td>1.4</td>\n",
       "      <td>0.2</td>\n",
       "      <td>setosa</td>\n",
       "    </tr>\n",
       "    <tr>\n",
       "      <th>2</th>\n",
       "      <td>4.7</td>\n",
       "      <td>3.2</td>\n",
       "      <td>1.3</td>\n",
       "      <td>0.2</td>\n",
       "      <td>setosa</td>\n",
       "    </tr>\n",
       "    <tr>\n",
       "      <th>3</th>\n",
       "      <td>4.6</td>\n",
       "      <td>3.1</td>\n",
       "      <td>1.5</td>\n",
       "      <td>0.2</td>\n",
       "      <td>setosa</td>\n",
       "    </tr>\n",
       "    <tr>\n",
       "      <th>4</th>\n",
       "      <td>5.0</td>\n",
       "      <td>3.6</td>\n",
       "      <td>1.4</td>\n",
       "      <td>0.2</td>\n",
       "      <td>setosa</td>\n",
       "    </tr>\n",
       "  </tbody>\n",
       "</table>\n",
       "</div>"
      ],
      "text/plain": [
       "   sepal_length  sepal_width  petal_length  petal_width species\n",
       "0           5.1          3.5           1.4          0.2  setosa\n",
       "1           4.9          3.0           1.4          0.2  setosa\n",
       "2           4.7          3.2           1.3          0.2  setosa\n",
       "3           4.6          3.1           1.5          0.2  setosa\n",
       "4           5.0          3.6           1.4          0.2  setosa"
      ]
     },
     "execution_count": 194,
     "metadata": {},
     "output_type": "execute_result"
    }
   ],
   "source": [
    "print(dataframe.shape)\n",
    "dataframe.head()"
   ]
  },
  {
   "cell_type": "code",
   "execution_count": 195,
   "id": "c51a5140",
   "metadata": {},
   "outputs": [],
   "source": [
    "import random\n",
    "def loadDataset(split, trainingSet=[], testSet=[]):\n",
    "    dataset = list(dataframe.to_numpy())\n",
    "    for x in range(len(dataset)-1):\n",
    "        for y in range(4):\n",
    "            dataset[x][y] = float(dataset[x][y])\n",
    "        if random.random() < split:\n",
    "            trainingSet.append(dataset[x])\n",
    "        else:\n",
    "            testSet.append(dataset[x])"
   ]
  },
  {
   "cell_type": "code",
   "execution_count": 196,
   "id": "04d5fded",
   "metadata": {},
   "outputs": [
    {
     "name": "stdout",
     "output_type": "stream",
     "text": [
      "Train: 102\n",
      "Test: 47\n"
     ]
    },
    {
     "data": {
      "text/plain": [
       "[array([5.1, 3.5, 1.4, 0.2, 'setosa'], dtype=object),\n",
       " array([4.6, 3.4, 1.4, 0.3, 'setosa'], dtype=object),\n",
       " array([4.8, 3.4, 1.6, 0.2, 'setosa'], dtype=object),\n",
       " array([4.8, 3.0, 1.4, 0.1, 'setosa'], dtype=object),\n",
       " array([5.8, 4.0, 1.2, 0.2, 'setosa'], dtype=object),\n",
       " array([5.7, 3.8, 1.7, 0.3, 'setosa'], dtype=object),\n",
       " array([5.1, 3.8, 1.5, 0.3, 'setosa'], dtype=object),\n",
       " array([5.4, 3.4, 1.7, 0.2, 'setosa'], dtype=object),\n",
       " array([4.6, 3.6, 1.0, 0.2, 'setosa'], dtype=object),\n",
       " array([5.0, 3.4, 1.6, 0.4, 'setosa'], dtype=object),\n",
       " array([4.4, 3.0, 1.3, 0.2, 'setosa'], dtype=object),\n",
       " array([4.8, 3.0, 1.4, 0.3, 'setosa'], dtype=object),\n",
       " array([7.0, 3.2, 4.7, 1.4, 'versicolor'], dtype=object),\n",
       " array([6.4, 3.2, 4.5, 1.5, 'versicolor'], dtype=object),\n",
       " array([5.5, 2.3, 4.0, 1.3, 'versicolor'], dtype=object),\n",
       " array([4.9, 2.4, 3.3, 1.0, 'versicolor'], dtype=object),\n",
       " array([5.2, 2.7, 3.9, 1.4, 'versicolor'], dtype=object),\n",
       " array([6.1, 2.9, 4.7, 1.4, 'versicolor'], dtype=object),\n",
       " array([5.8, 2.7, 4.1, 1.0, 'versicolor'], dtype=object),\n",
       " array([6.1, 2.8, 4.0, 1.3, 'versicolor'], dtype=object),\n",
       " array([6.3, 2.5, 4.9, 1.5, 'versicolor'], dtype=object),\n",
       " array([6.4, 2.9, 4.3, 1.3, 'versicolor'], dtype=object),\n",
       " array([6.6, 3.0, 4.4, 1.4, 'versicolor'], dtype=object),\n",
       " array([6.7, 3.0, 5.0, 1.7, 'versicolor'], dtype=object),\n",
       " array([6.0, 2.9, 4.5, 1.5, 'versicolor'], dtype=object),\n",
       " array([5.8, 2.7, 3.9, 1.2, 'versicolor'], dtype=object),\n",
       " array([6.7, 3.1, 4.7, 1.5, 'versicolor'], dtype=object),\n",
       " array([6.3, 2.3, 4.4, 1.3, 'versicolor'], dtype=object),\n",
       " array([5.6, 3.0, 4.1, 1.3, 'versicolor'], dtype=object),\n",
       " array([5.8, 2.7, 5.1, 1.9, 'virginica'], dtype=object),\n",
       " array([7.3, 2.9, 6.3, 1.8, 'virginica'], dtype=object),\n",
       " array([5.7, 2.5, 5.0, 2.0, 'virginica'], dtype=object),\n",
       " array([5.8, 2.8, 5.1, 2.4, 'virginica'], dtype=object),\n",
       " array([6.4, 3.2, 5.3, 2.3, 'virginica'], dtype=object),\n",
       " array([7.7, 2.6, 6.9, 2.3, 'virginica'], dtype=object),\n",
       " array([6.9, 3.2, 5.7, 2.3, 'virginica'], dtype=object),\n",
       " array([6.3, 2.7, 4.9, 1.8, 'virginica'], dtype=object),\n",
       " array([7.2, 3.2, 6.0, 1.8, 'virginica'], dtype=object),\n",
       " array([6.1, 3.0, 4.9, 1.8, 'virginica'], dtype=object),\n",
       " array([6.4, 2.8, 5.6, 2.1, 'virginica'], dtype=object),\n",
       " array([7.2, 3.0, 5.8, 1.6, 'virginica'], dtype=object),\n",
       " array([7.9, 3.8, 6.4, 2.0, 'virginica'], dtype=object),\n",
       " array([6.9, 3.1, 5.4, 2.1, 'virginica'], dtype=object),\n",
       " array([6.9, 3.1, 5.1, 2.3, 'virginica'], dtype=object),\n",
       " array([6.7, 3.3, 5.7, 2.5, 'virginica'], dtype=object),\n",
       " array([6.7, 3.0, 5.2, 2.3, 'virginica'], dtype=object),\n",
       " array([6.3, 2.5, 5.0, 1.9, 'virginica'], dtype=object)]"
      ]
     },
     "execution_count": 196,
     "metadata": {},
     "output_type": "execute_result"
    }
   ],
   "source": [
    "trainingSet=[]\n",
    "testSet=[]\n",
    "loadDataset(0.66,trainingSet,testSet)\n",
    "print('Train: '+ repr(len(trainingSet)))\n",
    "print('Test: '+repr(len(testSet)))\n",
    "testSet"
   ]
  },
  {
   "cell_type": "code",
   "execution_count": 197,
   "id": "0c1b35b1",
   "metadata": {},
   "outputs": [],
   "source": [
    "import math\n",
    "def euclideanDistance(instance1, instance2, length):\n",
    "    distance = 0\n",
    "    for x in range(length):\n",
    "        distance += pow((instance1[x] - instance2[x]),2)\n",
    "    return math.sqrt(distance)"
   ]
  },
  {
   "cell_type": "code",
   "execution_count": 198,
   "id": "ecf0cd9e",
   "metadata": {},
   "outputs": [
    {
     "data": {
      "text/plain": [
       "3.4641016151377544"
      ]
     },
     "execution_count": 198,
     "metadata": {},
     "output_type": "execute_result"
    }
   ],
   "source": [
    "#testing euclideanDistance function\n",
    "data1 = [2,2,2,'a']\n",
    "data2 = [4,4,4,'b']\n",
    "euclideanDistance(data1,data2,3)"
   ]
  },
  {
   "cell_type": "code",
   "execution_count": 199,
   "id": "0298d1d4",
   "metadata": {},
   "outputs": [],
   "source": [
    "import operator\n",
    "def getNeighbors(trainingSet, testInstance, k):\n",
    "    distances = []\n",
    "    length = len(testInstance)-1\n",
    "    for x in range(len(trainingSet)):\n",
    "        dist = euclideanDistance(testInstance, trainingSet[x], length)\n",
    "        distances.append((trainingSet[x], dist))\n",
    "    distances.sort(key=operator.itemgetter(1))\n",
    "    neighbors=[]\n",
    "    for x in range(k):\n",
    "        neighbors.append(distances[x][0])\n",
    "    return neighbors"
   ]
  },
  {
   "cell_type": "code",
   "execution_count": 200,
   "id": "07822489",
   "metadata": {},
   "outputs": [
    {
     "data": {
      "text/plain": [
       "[[4, 4, 4, 'b']]"
      ]
     },
     "execution_count": 200,
     "metadata": {},
     "output_type": "execute_result"
    }
   ],
   "source": [
    "#testing getNeighbor function\n",
    "trainSet = [[2,2,2,'a'],[4,4,4,'b']]\n",
    "testInstance = [5,5,5]\n",
    "k=1\n",
    "getNeighbors(trainSet, testInstance,k)"
   ]
  },
  {
   "cell_type": "code",
   "execution_count": 201,
   "id": "6e7a027e",
   "metadata": {},
   "outputs": [],
   "source": [
    "import operator\n",
    "def getResponse(neighbors):\n",
    "    classVotes = {}\n",
    "    for x in range(len(neighbors)):\n",
    "        response = neighbors[x][-1]\n",
    "        if response in classVotes:\n",
    "            classVotes[response] += 1\n",
    "        else:\n",
    "            classVotes[response] = 1\n",
    "    sortedVotes = sorted(classVotes.items(), key=operator.itemgetter(1),reverse=True)\n",
    "    return sortedVotes[0][0]"
   ]
  },
  {
   "cell_type": "code",
   "execution_count": 202,
   "id": "98a6ca1c",
   "metadata": {},
   "outputs": [
    {
     "data": {
      "text/plain": [
       "'a'"
      ]
     },
     "execution_count": 202,
     "metadata": {},
     "output_type": "execute_result"
    }
   ],
   "source": [
    "#testing getResponse function\n",
    "neighbors=[[1,1,1,'a'],[2,2,2,'a'],[3,3,3,'b']]\n",
    "getResponse(neighbors)"
   ]
  },
  {
   "cell_type": "code",
   "execution_count": 203,
   "id": "d0c9983b",
   "metadata": {},
   "outputs": [],
   "source": [
    "def getAccuracy(testSet, predictions):\n",
    "    correct = 0\n",
    "    for x in range(len(predictions)):\n",
    "        if testSet[x][-1] is predictions[x]:\n",
    "            correct += 1\n",
    "    return (correct/float(len(predictions)))*100"
   ]
  },
  {
   "cell_type": "code",
   "execution_count": 204,
   "id": "ef74d61f",
   "metadata": {},
   "outputs": [
    {
     "name": "stdout",
     "output_type": "stream",
     "text": [
      "66.66666666666666\n"
     ]
    }
   ],
   "source": [
    "#testing getAccuracy function\n",
    "testSet = [[1,1,1,'a'], [2,2,2,'a'],[3,3,3,'b']]\n",
    "predictions = ['a','a','a']\n",
    "accuracy = getAccuracy(testSet,predictions)\n",
    "print(accuracy)"
   ]
  },
  {
   "cell_type": "code",
   "execution_count": 205,
   "id": "306100a0",
   "metadata": {},
   "outputs": [
    {
     "name": "stdout",
     "output_type": "stream",
     "text": [
      "Train set:89\n",
      "Test set:60\n",
      "Predicted = 'setosa', actual = 'setosa'\n",
      "Predicted = 'setosa', actual = 'setosa'\n",
      "Predicted = 'setosa', actual = 'setosa'\n",
      "Predicted = 'setosa', actual = 'setosa'\n",
      "Predicted = 'setosa', actual = 'setosa'\n",
      "Predicted = 'setosa', actual = 'setosa'\n",
      "Predicted = 'setosa', actual = 'setosa'\n",
      "Predicted = 'setosa', actual = 'setosa'\n",
      "Predicted = 'setosa', actual = 'setosa'\n",
      "Predicted = 'setosa', actual = 'setosa'\n",
      "Predicted = 'setosa', actual = 'setosa'\n",
      "Predicted = 'setosa', actual = 'setosa'\n",
      "Predicted = 'setosa', actual = 'setosa'\n",
      "Predicted = 'setosa', actual = 'setosa'\n",
      "Predicted = 'setosa', actual = 'setosa'\n",
      "Predicted = 'setosa', actual = 'setosa'\n",
      "Predicted = 'setosa', actual = 'setosa'\n",
      "Predicted = 'versicolor', actual = 'versicolor'\n",
      "Predicted = 'versicolor', actual = 'versicolor'\n",
      "Predicted = 'versicolor', actual = 'versicolor'\n",
      "Predicted = 'virginica', actual = 'versicolor'\n",
      "Predicted = 'versicolor', actual = 'versicolor'\n",
      "Predicted = 'versicolor', actual = 'versicolor'\n",
      "Predicted = 'versicolor', actual = 'versicolor'\n",
      "Predicted = 'versicolor', actual = 'versicolor'\n",
      "Predicted = 'versicolor', actual = 'versicolor'\n",
      "Predicted = 'versicolor', actual = 'versicolor'\n",
      "Predicted = 'virginica', actual = 'versicolor'\n",
      "Predicted = 'versicolor', actual = 'versicolor'\n",
      "Predicted = 'versicolor', actual = 'versicolor'\n",
      "Accuracy = 93.33333333333333%\n"
     ]
    }
   ],
   "source": [
    "def knn():\n",
    "    trainingSet=[]\n",
    "    testSet=[]\n",
    "    split=0.6\n",
    "    loadDataset(split,trainingSet, testSet)\n",
    "    print('Train set:' + repr(len(trainingSet)))\n",
    "    print('Test set:' + repr(len(testSet)))\n",
    "    k=3\n",
    "    predictions=[]\n",
    "    for i in range(len(y_train)):\n",
    "        neighbors = getNeighbors(trainingSet,testSet[i],k)\n",
    "        result = getResponse(neighbors)\n",
    "        predictions.append(result)\n",
    "        print('Predicted = '+ repr(result) + ', actual = ' +repr(testSet[i][-1]))\n",
    "    accuracy = getAccuracy(testSet, predictions)\n",
    "    print('Accuracy = ' + repr(accuracy) + '%')\n",
    "\n",
    "knn()"
   ]
  },
  {
   "cell_type": "code",
   "execution_count": null,
   "id": "643e16f2",
   "metadata": {},
   "outputs": [],
   "source": []
  }
 ],
 "metadata": {
  "kernelspec": {
   "display_name": "Python 3 (ipykernel)",
   "language": "python",
   "name": "python3"
  },
  "language_info": {
   "codemirror_mode": {
    "name": "ipython",
    "version": 3
   },
   "file_extension": ".py",
   "mimetype": "text/x-python",
   "name": "python",
   "nbconvert_exporter": "python",
   "pygments_lexer": "ipython3",
   "version": "3.7.11"
  }
 },
 "nbformat": 4,
 "nbformat_minor": 5
}
